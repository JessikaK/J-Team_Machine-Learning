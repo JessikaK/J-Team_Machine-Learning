{
 "cells": [
  {
   "cell_type": "markdown",
   "id": "653af09a",
   "metadata": {
    "slideshow": {
     "slide_type": "slide"
    }
   },
   "source": [
    "# Import Modules"
   ]
  },
  {
   "cell_type": "code",
   "execution_count": 5,
   "id": "1f9623c0",
   "metadata": {
    "slideshow": {
     "slide_type": "-"
    }
   },
   "outputs": [],
   "source": [
    "import pandas as pd\n",
    "import numpy as np\n",
    "import sklearn\n",
    "import seaborn as sns\n",
    "import matplotlib.pyplot as plt\n",
    "import xgboost as xgb\n",
    "from collections import Counter\n",
    "from sklearn.ensemble import RandomForestClassifier\n",
    "from sklearn.metrics import confusion_matrix\n",
    "from sklearn.metrics import accuracy_score\n",
    "from sklearn.model_selection import train_test_split\n",
    "from sklearn.linear_model import LogisticRegression\n",
    "from sklearn.svm import SVC\n",
    "from sklearn.neighbors import KNeighborsClassifier\n",
    "from sklearn.naive_bayes import GaussianNB\n",
    "from sklearn.linear_model import SGDClassifier"
   ]
  },
  {
   "cell_type": "code",
   "execution_count": 6,
   "id": "fd30c6d1",
   "metadata": {
    "slideshow": {
     "slide_type": "skip"
    }
   },
   "outputs": [],
   "source": [
    "# Warnings are ignored in the following for better readability\n",
    "import warnings\n",
    "warnings.filterwarnings('ignore')"
   ]
  },
  {
   "cell_type": "markdown",
   "id": "d0d0d6e0",
   "metadata": {
    "slideshow": {
     "slide_type": "slide"
    }
   },
   "source": [
    "# Import Datasets"
   ]
  },
  {
   "cell_type": "code",
   "execution_count": 7,
   "id": "56101762",
   "metadata": {
    "slideshow": {
     "slide_type": "subslide"
    }
   },
   "outputs": [],
   "source": [
    "redwine = pd.read_csv(\"winequality-red (1).csv\", delimiter=';')\n",
    "whitewine = pd.read_csv(\"winequality-white (2).csv\", delimiter=';')"
   ]
  },
  {
   "cell_type": "markdown",
   "id": "3d7920ad",
   "metadata": {
    "slideshow": {
     "slide_type": "slide"
    }
   },
   "source": [
    "# Final Model: Random Forest"
   ]
  },
  {
   "cell_type": "code",
   "execution_count": 8,
   "id": "65e8843a",
   "metadata": {},
   "outputs": [
    {
     "ename": "NameError",
     "evalue": "name 'redwine_3' is not defined",
     "output_type": "error",
     "traceback": [
      "\u001b[1;31m---------------------------------------------------------------------------\u001b[0m",
      "\u001b[1;31mNameError\u001b[0m                                 Traceback (most recent call last)",
      "Cell \u001b[1;32mIn[8], line 4\u001b[0m\n\u001b[0;32m      1\u001b[0m \u001b[38;5;66;03m# Redwine - Final Model\u001b[39;00m\n\u001b[0;32m      2\u001b[0m \u001b[38;5;28;01mfrom\u001b[39;00m \u001b[38;5;21;01msklearn\u001b[39;00m\u001b[38;5;21;01m.\u001b[39;00m\u001b[38;5;21;01mmetrics\u001b[39;00m \u001b[38;5;28;01mimport\u001b[39;00m f1_score\n\u001b[1;32m----> 4\u001b[0m x \u001b[38;5;241m=\u001b[39m \u001b[43mredwine_3\u001b[49m[[\u001b[38;5;124m'\u001b[39m\u001b[38;5;124mfixed acidity\u001b[39m\u001b[38;5;124m'\u001b[39m, \u001b[38;5;124m'\u001b[39m\u001b[38;5;124mvolatile acidity\u001b[39m\u001b[38;5;124m'\u001b[39m, \u001b[38;5;124m'\u001b[39m\u001b[38;5;124mcitric acid\u001b[39m\u001b[38;5;124m'\u001b[39m, \u001b[38;5;124m'\u001b[39m\u001b[38;5;124mresidual sugar\u001b[39m\u001b[38;5;124m'\u001b[39m, \u001b[38;5;124m'\u001b[39m\u001b[38;5;124mchlorides\u001b[39m\u001b[38;5;124m'\u001b[39m, \u001b[38;5;124m'\u001b[39m\u001b[38;5;124mtotal sulfur dioxide\u001b[39m\u001b[38;5;124m'\u001b[39m, \u001b[38;5;124m'\u001b[39m\u001b[38;5;124msulphates\u001b[39m\u001b[38;5;124m'\u001b[39m, \u001b[38;5;124m'\u001b[39m\u001b[38;5;124malcohol\u001b[39m\u001b[38;5;124m'\u001b[39m]]\n\u001b[0;32m      5\u001b[0m y \u001b[38;5;241m=\u001b[39m redwine_3[\u001b[38;5;124m'\u001b[39m\u001b[38;5;124mquality\u001b[39m\u001b[38;5;124m'\u001b[39m]\n\u001b[0;32m      6\u001b[0m x_train, x_test, y_train, y_test \u001b[38;5;241m=\u001b[39m train_test_split(x, y, test_size\u001b[38;5;241m=\u001b[39m\u001b[38;5;241m0.25\u001b[39m,random_state\u001b[38;5;241m=\u001b[39m\u001b[38;5;241m299\u001b[39m)\n",
      "\u001b[1;31mNameError\u001b[0m: name 'redwine_3' is not defined"
     ]
    }
   ],
   "source": [
    "# Redwine - Final Model\n",
    "from sklearn.metrics import f1_score\n",
    "\n",
    "x = redwine_3[['fixed acidity', 'volatile acidity', 'citric acid', 'residual sugar', 'chlorides', 'total sulfur dioxide', 'sulphates', 'alcohol']]\n",
    "y = redwine_3['quality']\n",
    "x_train, x_test, y_train, y_test = train_test_split(x, y, test_size=0.25,random_state=299)\n",
    "\n",
    "class_weights = {\n",
    "    0: 1 / 63,\n",
    "    1: 1 / 1319,\n",
    "    2: 1 / 217\n",
    "}\n",
    "\n",
    "red = RandomForestClassifier(class_weight=class_weights)\n",
    "red.fit(x_train, y_train)\n",
    "rf_predict = red.predict(x_test)\n",
    "rf_conf_matrix = confusion_matrix(y_test, rf_predict)\n",
    "rf_f1_score = f1_score(y_test, rf_predict, average='weighted')\n",
    "print(rf_f1_score * 100)\n",
    "rf_acc_score = accuracy_score(y_test, rf_predict)\n",
    "print(rf_acc_score*100)\n"
   ]
  },
  {
   "cell_type": "code",
   "execution_count": null,
   "id": "68ee19f9",
   "metadata": {
    "slideshow": {
     "slide_type": "subslide"
    }
   },
   "outputs": [],
   "source": [
    "# Whitewine Final Model\n",
    "x = whitewine_3[['fixed acidity', 'volatile acidity', 'citric acid', 'residual sugar', 'chlorides', 'total sulfur dioxide', 'sulphates', 'alcohol']]\n",
    "y = whitewine_3['quality']\n",
    "x_train, x_test, y_train, y_test = train_test_split(x, y, test_size = 0.25,random_state=242)\n",
    "\n",
    "class_weights = {\n",
    "    0: 1 / 183,\n",
    "    1: 1 / 3655,\n",
    "    2: 1 / 1060    \n",
    "}\n",
    "\n",
    "white = RandomForestClassifier()\n",
    "white.fit(x_train, y_train)\n",
    "rf_predict=white.predict(x_test)\n",
    "rf_conf_matrix = confusion_matrix(y_test, rf_predict)\n",
    "rf_f1_score = f1_score(y_test, rf_predict, average='weighted')\n",
    "print(rf_f1_score * 100)"
   ]
  },
  {
   "cell_type": "markdown",
   "id": "0f3dd271",
   "metadata": {
    "slideshow": {
     "slide_type": "slide"
    }
   },
   "source": [
    "## Random Forest - prediction"
   ]
  },
  {
   "cell_type": "code",
   "execution_count": null,
   "id": "6879bf62",
   "metadata": {
    "slideshow": {
     "slide_type": "subslide"
    }
   },
   "outputs": [],
   "source": [
    "redWhite = input(\"Geben Sie weiß für Weißwein und rot für Rotwein ein: \")\n",
    "\n",
    "if redWhite == \"weiß\" or redWhite == \"white\": # User wants to predict Whitewine\n",
    "    print(\"Qualitätsanalyse für Weißwein\")\n",
    "    example_data = []\n",
    "    values = input(\"Bitte geben Sie die Werte für den Array ein, getrennt durch Kommas: \")\n",
    "    values_list = values.split(',')\n",
    "    if len(values_list) != 8:\n",
    "        print(\"Fehler: Es müssen genau 8 Werte eingegeben werden!\")\n",
    "    else:\n",
    "        try:\n",
    "            example_data.append([float(value) for value in values_list])\n",
    "            print(\"Folgende Eingabe erfolgreich:\")\n",
    "            print(example_data)\n",
    "        except ValueError:\n",
    "            print(\"Fehler: Ungültige Eingabe! Es dürfen nur Zahlen eingegeben werden.\")\n",
    "    predicted_class = white.predict(example_data)\n",
    "    print(predicted_class)\n",
    "elif redWhite == \"rot\" or redWhite == \"red\": # User wants to predict Redwine\n",
    "    print(\"Qualitätsanalyse für Rotwein\")\n",
    "    example_data = []\n",
    "    values = input(\"Bitte geben Sie die Werte für den Array ein, getrennt durch Kommas: \")\n",
    "    values_list = values.split(',')\n",
    "    if len(values_list) != 8:\n",
    "        print(\"Fehler: Es müssen genau 8 Werte eingegeben werden!\")\n",
    "    else:\n",
    "        try:\n",
    "            example_data.append([float(value) for value in values_list])\n",
    "            print(\"Folgende Eingabe erfolgreich:\")\n",
    "            print(example_data)\n",
    "        except ValueError:\n",
    "            print(\"Fehler: Ungültige Eingabe! Es dürfen nur Zahlen eingegeben werden.\")\n",
    "    predicted_class = red.predict(example_data)\n",
    "    print(predicted_class)"
   ]
  },
  {
   "cell_type": "code",
   "execution_count": null,
   "id": "8d3b9323",
   "metadata": {},
   "outputs": [],
   "source": [
    "\"\"\"\"\"\n",
    "7.871429,0.724206,0.173651,2.684921,0.09573,34.444444,0.592222,10.215873    # Rot 0\n",
    "8.254284,0.538560,0.258264,2.503867,0.088973,48.946929,0.647263,10.252717   # Rot 1\n",
    "8.847005,0.405530,0.376498,2.708756,0.075912,34.889401,0.743456,11.518049   # Rot 2\n",
    "\n",
    "7.180874,0.375984,0.307705,4.821038,0.050557,130.232240,0.475956,10.173497  # Weiß 0\n",
    "6.876060,0.277086,0.337877,6.797729,0.047740,142.571272,0.487557,10.269808  # Weiß 1\n",
    "6.725142,0.265349,0.326057,5.261509,0.038160,125.245283,0.500142,11.416022  # Weiß 2\n",
    "\"\"\"\"\""
   ]
  }
 ],
 "metadata": {
  "celltoolbar": "Slideshow",
  "kernelspec": {
   "display_name": "Python 3 (ipykernel)",
   "language": "python",
   "name": "python3"
  },
  "language_info": {
   "codemirror_mode": {
    "name": "ipython",
    "version": 3
   },
   "file_extension": ".py",
   "mimetype": "text/x-python",
   "name": "python",
   "nbconvert_exporter": "python",
   "pygments_lexer": "ipython3",
   "version": "3.9.13"
  }
 },
 "nbformat": 4,
 "nbformat_minor": 5
}
