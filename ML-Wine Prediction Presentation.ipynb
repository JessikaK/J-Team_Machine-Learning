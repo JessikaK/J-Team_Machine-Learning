{
 "cells": [
  {
   "cell_type": "markdown",
   "id": "653af09a",
   "metadata": {
    "slideshow": {
     "slide_type": "slide"
    }
   },
   "source": [
    "# Import Modules"
   ]
  },
  {
   "cell_type": "code",
   "execution_count": 89,
   "id": "1f9623c0",
   "metadata": {
    "slideshow": {
     "slide_type": "-"
    }
   },
   "outputs": [],
   "source": [
    "import pandas as pd\n",
    "import numpy as np\n",
    "import sklearn\n",
    "import seaborn as sns\n",
    "import matplotlib.pyplot as plt\n",
    "import xgboost as xgb\n",
    "from collections import Counter\n",
    "from sklearn.ensemble import RandomForestClassifier\n",
    "from sklearn.metrics import confusion_matrix\n",
    "from sklearn.metrics import accuracy_score\n",
    "from sklearn.model_selection import train_test_split\n",
    "from sklearn.linear_model import LogisticRegression\n",
    "from sklearn.svm import SVC\n",
    "from sklearn.neighbors import KNeighborsClassifier\n",
    "from sklearn.naive_bayes import GaussianNB\n",
    "from sklearn.linear_model import SGDClassifier"
   ]
  },
  {
   "cell_type": "code",
   "execution_count": 90,
   "id": "fd30c6d1",
   "metadata": {
    "slideshow": {
     "slide_type": "skip"
    }
   },
   "outputs": [],
   "source": [
    "# Warnings are ignored in the following for better readability\n",
    "import warnings\n",
    "warnings.filterwarnings('ignore')"
   ]
  },
  {
   "cell_type": "markdown",
   "id": "d0d0d6e0",
   "metadata": {
    "slideshow": {
     "slide_type": "slide"
    }
   },
   "source": [
    "# Import Datasets"
   ]
  },
  {
   "cell_type": "code",
   "execution_count": 91,
   "id": "56101762",
   "metadata": {
    "slideshow": {
     "slide_type": "subslide"
    }
   },
   "outputs": [],
   "source": [
    "redwine = pd.read_csv(\"winequality-red (1).csv\", delimiter=';')\n",
    "whitewine = pd.read_csv(\"winequality-white (2).csv\", delimiter=';')"
   ]
  },
  {
   "cell_type": "markdown",
   "id": "bbaf8ff0",
   "metadata": {
    "slideshow": {
     "slide_type": "slide"
    }
   },
   "source": [
    "# Dataset Information "
   ]
  },
  {
   "cell_type": "code",
   "execution_count": 92,
   "id": "baef7e8a",
   "metadata": {
    "slideshow": {
     "slide_type": "subslide"
    }
   },
   "outputs": [
    {
     "data": {
      "text/html": [
       "<div>\n",
       "<style scoped>\n",
       "    .dataframe tbody tr th:only-of-type {\n",
       "        vertical-align: middle;\n",
       "    }\n",
       "\n",
       "    .dataframe tbody tr th {\n",
       "        vertical-align: top;\n",
       "    }\n",
       "\n",
       "    .dataframe thead th {\n",
       "        text-align: right;\n",
       "    }\n",
       "</style>\n",
       "<table border=\"1\" class=\"dataframe\">\n",
       "  <thead>\n",
       "    <tr style=\"text-align: right;\">\n",
       "      <th></th>\n",
       "      <th>count</th>\n",
       "      <th>mean</th>\n",
       "      <th>std</th>\n",
       "      <th>min</th>\n",
       "      <th>25%</th>\n",
       "      <th>50%</th>\n",
       "      <th>75%</th>\n",
       "      <th>max</th>\n",
       "    </tr>\n",
       "  </thead>\n",
       "  <tbody>\n",
       "    <tr>\n",
       "      <th>fixed acidity</th>\n",
       "      <td>1599.0</td>\n",
       "      <td>8.319637</td>\n",
       "      <td>1.741096</td>\n",
       "      <td>4.60000</td>\n",
       "      <td>7.1000</td>\n",
       "      <td>7.90000</td>\n",
       "      <td>9.200000</td>\n",
       "      <td>15.90000</td>\n",
       "    </tr>\n",
       "    <tr>\n",
       "      <th>volatile acidity</th>\n",
       "      <td>1599.0</td>\n",
       "      <td>0.527821</td>\n",
       "      <td>0.179060</td>\n",
       "      <td>0.12000</td>\n",
       "      <td>0.3900</td>\n",
       "      <td>0.52000</td>\n",
       "      <td>0.640000</td>\n",
       "      <td>1.58000</td>\n",
       "    </tr>\n",
       "    <tr>\n",
       "      <th>citric acid</th>\n",
       "      <td>1599.0</td>\n",
       "      <td>0.270976</td>\n",
       "      <td>0.194801</td>\n",
       "      <td>0.00000</td>\n",
       "      <td>0.0900</td>\n",
       "      <td>0.26000</td>\n",
       "      <td>0.420000</td>\n",
       "      <td>1.00000</td>\n",
       "    </tr>\n",
       "    <tr>\n",
       "      <th>residual sugar</th>\n",
       "      <td>1599.0</td>\n",
       "      <td>2.538806</td>\n",
       "      <td>1.409928</td>\n",
       "      <td>0.90000</td>\n",
       "      <td>1.9000</td>\n",
       "      <td>2.20000</td>\n",
       "      <td>2.600000</td>\n",
       "      <td>15.50000</td>\n",
       "    </tr>\n",
       "    <tr>\n",
       "      <th>chlorides</th>\n",
       "      <td>1599.0</td>\n",
       "      <td>0.087467</td>\n",
       "      <td>0.047065</td>\n",
       "      <td>0.01200</td>\n",
       "      <td>0.0700</td>\n",
       "      <td>0.07900</td>\n",
       "      <td>0.090000</td>\n",
       "      <td>0.61100</td>\n",
       "    </tr>\n",
       "    <tr>\n",
       "      <th>free sulfur dioxide</th>\n",
       "      <td>1599.0</td>\n",
       "      <td>15.874922</td>\n",
       "      <td>10.460157</td>\n",
       "      <td>1.00000</td>\n",
       "      <td>7.0000</td>\n",
       "      <td>14.00000</td>\n",
       "      <td>21.000000</td>\n",
       "      <td>72.00000</td>\n",
       "    </tr>\n",
       "    <tr>\n",
       "      <th>total sulfur dioxide</th>\n",
       "      <td>1599.0</td>\n",
       "      <td>46.467792</td>\n",
       "      <td>32.895324</td>\n",
       "      <td>6.00000</td>\n",
       "      <td>22.0000</td>\n",
       "      <td>38.00000</td>\n",
       "      <td>62.000000</td>\n",
       "      <td>289.00000</td>\n",
       "    </tr>\n",
       "    <tr>\n",
       "      <th>density</th>\n",
       "      <td>1599.0</td>\n",
       "      <td>0.996747</td>\n",
       "      <td>0.001887</td>\n",
       "      <td>0.99007</td>\n",
       "      <td>0.9956</td>\n",
       "      <td>0.99675</td>\n",
       "      <td>0.997835</td>\n",
       "      <td>1.00369</td>\n",
       "    </tr>\n",
       "    <tr>\n",
       "      <th>pH</th>\n",
       "      <td>1599.0</td>\n",
       "      <td>3.311113</td>\n",
       "      <td>0.154386</td>\n",
       "      <td>2.74000</td>\n",
       "      <td>3.2100</td>\n",
       "      <td>3.31000</td>\n",
       "      <td>3.400000</td>\n",
       "      <td>4.01000</td>\n",
       "    </tr>\n",
       "    <tr>\n",
       "      <th>sulphates</th>\n",
       "      <td>1599.0</td>\n",
       "      <td>0.658149</td>\n",
       "      <td>0.169507</td>\n",
       "      <td>0.33000</td>\n",
       "      <td>0.5500</td>\n",
       "      <td>0.62000</td>\n",
       "      <td>0.730000</td>\n",
       "      <td>2.00000</td>\n",
       "    </tr>\n",
       "    <tr>\n",
       "      <th>alcohol</th>\n",
       "      <td>1599.0</td>\n",
       "      <td>10.422983</td>\n",
       "      <td>1.065668</td>\n",
       "      <td>8.40000</td>\n",
       "      <td>9.5000</td>\n",
       "      <td>10.20000</td>\n",
       "      <td>11.100000</td>\n",
       "      <td>14.90000</td>\n",
       "    </tr>\n",
       "    <tr>\n",
       "      <th>quality</th>\n",
       "      <td>1599.0</td>\n",
       "      <td>5.636023</td>\n",
       "      <td>0.807569</td>\n",
       "      <td>3.00000</td>\n",
       "      <td>5.0000</td>\n",
       "      <td>6.00000</td>\n",
       "      <td>6.000000</td>\n",
       "      <td>8.00000</td>\n",
       "    </tr>\n",
       "  </tbody>\n",
       "</table>\n",
       "</div>"
      ],
      "text/plain": [
       "                       count       mean        std      min      25%  \\\n",
       "fixed acidity         1599.0   8.319637   1.741096  4.60000   7.1000   \n",
       "volatile acidity      1599.0   0.527821   0.179060  0.12000   0.3900   \n",
       "citric acid           1599.0   0.270976   0.194801  0.00000   0.0900   \n",
       "residual sugar        1599.0   2.538806   1.409928  0.90000   1.9000   \n",
       "chlorides             1599.0   0.087467   0.047065  0.01200   0.0700   \n",
       "free sulfur dioxide   1599.0  15.874922  10.460157  1.00000   7.0000   \n",
       "total sulfur dioxide  1599.0  46.467792  32.895324  6.00000  22.0000   \n",
       "density               1599.0   0.996747   0.001887  0.99007   0.9956   \n",
       "pH                    1599.0   3.311113   0.154386  2.74000   3.2100   \n",
       "sulphates             1599.0   0.658149   0.169507  0.33000   0.5500   \n",
       "alcohol               1599.0  10.422983   1.065668  8.40000   9.5000   \n",
       "quality               1599.0   5.636023   0.807569  3.00000   5.0000   \n",
       "\n",
       "                           50%        75%        max  \n",
       "fixed acidity          7.90000   9.200000   15.90000  \n",
       "volatile acidity       0.52000   0.640000    1.58000  \n",
       "citric acid            0.26000   0.420000    1.00000  \n",
       "residual sugar         2.20000   2.600000   15.50000  \n",
       "chlorides              0.07900   0.090000    0.61100  \n",
       "free sulfur dioxide   14.00000  21.000000   72.00000  \n",
       "total sulfur dioxide  38.00000  62.000000  289.00000  \n",
       "density                0.99675   0.997835    1.00369  \n",
       "pH                     3.31000   3.400000    4.01000  \n",
       "sulphates              0.62000   0.730000    2.00000  \n",
       "alcohol               10.20000  11.100000   14.90000  \n",
       "quality                6.00000   6.000000    8.00000  "
      ]
     },
     "execution_count": 92,
     "metadata": {},
     "output_type": "execute_result"
    }
   ],
   "source": [
    "redwine.describe().T"
   ]
  },
  {
   "cell_type": "markdown",
   "id": "87edfdad",
   "metadata": {
    "slideshow": {
     "slide_type": "skip"
    }
   },
   "source": [
    "# Exploratory Data Analysis"
   ]
  },
  {
   "cell_type": "markdown",
   "id": "1c519de9",
   "metadata": {
    "slideshow": {
     "slide_type": "slide"
    }
   },
   "source": [
    "# Quality Counter"
   ]
  },
  {
   "cell_type": "code",
   "execution_count": 93,
   "id": "09d409e9",
   "metadata": {
    "scrolled": true,
    "slideshow": {
     "slide_type": "subslide"
    }
   },
   "outputs": [
    {
     "name": "stdout",
     "output_type": "stream",
     "text": [
      "Redwine: Counter({5: 681, 6: 638, 7: 199, 4: 53, 8: 18, 3: 10})\n",
      "Whitewine: Counter({6: 2198, 5: 1457, 7: 880, 8: 175, 4: 163, 3: 20, 9: 5})\n"
     ]
    }
   ],
   "source": [
    "print(\"Redwine: \" + str(Counter(redwine['quality'])))\n",
    "print(\"Whitewine: \" + str(Counter(whitewine['quality'])))"
   ]
  },
  {
   "cell_type": "code",
   "execution_count": 94,
   "id": "5681cbd2",
   "metadata": {
    "scrolled": false,
    "slideshow": {
     "slide_type": "subslide"
    }
   },
   "outputs": [
    {
     "data": {
      "text/plain": [
       "<AxesSubplot:xlabel='quality', ylabel='count'>"
      ]
     },
     "execution_count": 94,
     "metadata": {},
     "output_type": "execute_result"
    },
    {
     "data": {
      "image/png": "[encoded data removed]",
      "text/plain": [
       "<Figure size 720x432 with 1 Axes>"
      ]
     },
     "metadata": {
      "needs_background": "light"
     },
     "output_type": "display_data"
    }
   ],
   "source": [
    "# Redwine\n",
    "fig = plt.figure(figsize = (10,6))\n",
    "x='quality'\n",
    "sns.countplot(x = x, data=redwine)"
   ]
  },
  {
   "cell_type": "code",
   "execution_count": 95,
   "id": "24f198bd",
   "metadata": {
    "slideshow": {
     "slide_type": "subslide"
    }
   },
   "outputs": [
    {
     "data": {
      "text/plain": [
       "<AxesSubplot:xlabel='quality', ylabel='count'>"
      ]
     },
     "execution_count": 95,
     "metadata": {},
     "output_type": "execute_result"
    },
    {
     "data": {
      "image/png": "[encoded data removed]",
      "text/plain": [
       "<Figure size 720x432 with 1 Axes>"
      ]
     },
     "metadata": {
      "needs_background": "light"
     },
     "output_type": "display_data"
    }
   ],
   "source": [
    "# Whitewine\n",
    "fig = plt.figure(figsize = (10,6))\n",
    "x='quality'\n",
    "sns.countplot(x = x, data=whitewine)"
   ]
  },
  {
   "cell_type": "markdown",
   "id": "83cdab10",
   "metadata": {
    "slideshow": {
     "slide_type": "slide"
    }
   },
   "source": [
    "## Distribution of the Dataset - Barplots of all Attributes"
   ]
  },
  {
   "cell_type": "code",
   "execution_count": 96,
   "id": "d57d6136",
   "metadata": {
    "scrolled": false,
    "slideshow": {
     "slide_type": "skip"
    }
   },
   "outputs": [
    {
     "data": {
      "text/plain": [
       "<AxesSubplot:xlabel='quality', ylabel='fixed acidity'>"
      ]
     },
     "execution_count": 96,
     "metadata": {},
     "output_type": "execute_result"
    },
    {
     "data": {
      "image/png": "[encoded data removed]",
      "text/plain": [
       "<Figure size 720x432 with 1 Axes>"
      ]
     },
     "metadata": {
      "needs_background": "light"
     },
     "output_type": "display_data"
    }
   ],
   "source": [
    "fig = plt.figure(figsize = (10,6))\n",
    "x = 'quality'\n",
    "y = 'fixed acidity'\n",
    "sns.barplot(x = x, y = y, data = redwine)"
   ]
  },
  {
   "cell_type": "code",
   "execution_count": 97,
   "id": "bc4a4e0a",
   "metadata": {
    "slideshow": {
     "slide_type": "skip"
    }
   },
   "outputs": [
    {
     "data": {
      "text/plain": [
       "<AxesSubplot:xlabel='quality', ylabel='volatile acidity'>"
      ]
     },
     "execution_count": 97,
     "metadata": {},
     "output_type": "execute_result"
    },
    {
     "data": {
      "image/png": "[encoded data removed]",
      "text/plain": [
       "<Figure size 720x432 with 1 Axes>"
      ]
     },
     "metadata": {
      "needs_background": "light"
     },
     "output_type": "display_data"
    }
   ],
   "source": [
    "fig = plt.figure(figsize = (10,6))\n",
    "x = 'quality'\n",
    "y = 'volatile acidity'\n",
    "sns.barplot(x = x, y = y, data = redwine)"
   ]
  },
  {
   "cell_type": "code",
   "execution_count": 98,
   "id": "d8bbd1c6",
   "metadata": {
    "slideshow": {
     "slide_type": "subslide"
    }
   },
   "outputs": [
    {
     "data": {
      "text/plain": [
       "<AxesSubplot:xlabel='quality', ylabel='citric acid'>"
      ]
     },
     "execution_count": 98,
     "metadata": {},
     "output_type": "execute_result"
    },
    {
     "data": {
      "image/png": "[encoded data removed]",
      "text/plain": [
       "<Figure size 720x432 with 1 Axes>"
      ]
     },
     "metadata": {
      "needs_background": "light"
     },
     "output_type": "display_data"
    }
   ],
   "source": [
    "fig = plt.figure(figsize = (10,6))\n",
    "x = 'quality'\n",
    "y = 'citric acid'\n",
    "sns.barplot(x = x, y = y, data = redwine)"
   ]
  },
  {
   "cell_type": "code",
   "execution_count": 99,
   "id": "63cce1e0",
   "metadata": {
    "slideshow": {
     "slide_type": "skip"
    }
   },
   "outputs": [
    {
     "data": {
      "text/plain": [
       "<AxesSubplot:xlabel='quality', ylabel='residual sugar'>"
      ]
     },
     "execution_count": 99,
     "metadata": {},
     "output_type": "execute_result"
    },
    {
     "data": {
      "image/png": "[encoded data removed]",
      "text/plain": [
       "<Figure size 720x432 with 1 Axes>"
      ]
     },
     "metadata": {
      "needs_background": "light"
     },
     "output_type": "display_data"
    }
   ],
   "source": [
    "fig = plt.figure(figsize = (10,6))\n",
    "x = 'quality'\n",
    "y = 'residual sugar'\n",
    "sns.barplot(x = x, y = y, data = redwine)"
   ]
  },
  {
   "cell_type": "code",
   "execution_count": 100,
   "id": "de8b0015",
   "metadata": {
    "slideshow": {
     "slide_type": "skip"
    }
   },
   "outputs": [
    {
     "data": {
      "text/plain": [
       "<AxesSubplot:xlabel='quality', ylabel='chlorides'>"
      ]
     },
     "execution_count": 100,
     "metadata": {},
     "output_type": "execute_result"
    },
    {
     "data": {
      "image/png": "[encoded data removed]",
      "text/plain": [
       "<Figure size 720x432 with 1 Axes>"
      ]
     },
     "metadata": {
      "needs_background": "light"
     },
     "output_type": "display_data"
    }
   ],
   "source": [
    "fig = plt.figure(figsize = (10,6))\n",
    "x = 'quality'\n",
    "y = 'chlorides'\n",
    "sns.barplot(x = x, y = y, data = redwine)"
   ]
  },
  {
   "cell_type": "code",
   "execution_count": 101,
   "id": "f2a8aaed",
   "metadata": {
    "slideshow": {
     "slide_type": "subslide"
    }
   },
   "outputs": [
    {
     "data": {
      "text/plain": [
       "<AxesSubplot:xlabel='quality', ylabel='free sulfur dioxide'>"
      ]
     },
     "execution_count": 101,
     "metadata": {},
     "output_type": "execute_result"
    },
    {
     "data": {
      "image/png": "[encoded data removed]",
      "text/plain": [
       "<Figure size 720x432 with 1 Axes>"
      ]
     },
     "metadata": {
      "needs_background": "light"
     },
     "output_type": "display_data"
    }
   ],
   "source": [
    "fig = plt.figure(figsize = (10,6))\n",
    "x = 'quality'\n",
    "y = 'free sulfur dioxide'\n",
    "sns.barplot(x = x, y = y, data = redwine)"
   ]
  },
  {
   "cell_type": "code",
   "execution_count": 102,
   "id": "718d5401",
   "metadata": {
    "slideshow": {
     "slide_type": "skip"
    }
   },
   "outputs": [
    {
     "data": {
      "text/plain": [
       "<AxesSubplot:xlabel='quality', ylabel='sulphates'>"
      ]
     },
     "execution_count": 102,
     "metadata": {},
     "output_type": "execute_result"
    },
    {
     "data": {
      "image/png": "[encoded data removed]",
      "text/plain": [
       "<Figure size 720x432 with 1 Axes>"
      ]
     },
     "metadata": {
      "needs_background": "light"
     },
     "output_type": "display_data"
    }
   ],
   "source": [
    "fig = plt.figure(figsize = (10,6))\n",
    "x = 'quality'\n",
    "y = 'sulphates'\n",
    "sns.barplot(x = x, y = y, data = redwine)"
   ]
  },
  {
   "cell_type": "code",
   "execution_count": 103,
   "id": "43085a48",
   "metadata": {
    "slideshow": {
     "slide_type": "skip"
    }
   },
   "outputs": [
    {
     "data": {
      "text/plain": [
       "<AxesSubplot:xlabel='quality', ylabel='alcohol'>"
      ]
     },
     "execution_count": 103,
     "metadata": {},
     "output_type": "execute_result"
    },
    {
     "data": {
      "image/png": "[encoded data removed]",
      "text/plain": [
       "<Figure size 720x432 with 1 Axes>"
      ]
     },
     "metadata": {
      "needs_background": "light"
     },
     "output_type": "display_data"
    }
   ],
   "source": [
    "fig = plt.figure(figsize = (10,6))\n",
    "x = 'quality'\n",
    "y = 'alcohol'\n",
    "sns.barplot(x=x, y=y , data = redwine)"
   ]
  },
  {
   "cell_type": "code",
   "execution_count": 104,
   "id": "aeda6458",
   "metadata": {
    "slideshow": {
     "slide_type": "subslide"
    }
   },
   "outputs": [
    {
     "data": {
      "text/plain": [
       "<AxesSubplot:xlabel='quality', ylabel='density'>"
      ]
     },
     "execution_count": 104,
     "metadata": {},
     "output_type": "execute_result"
    },
    {
     "data": {
      "image/png": "[encoded data removed]",
      "text/plain": [
       "<Figure size 720x432 with 1 Axes>"
      ]
     },
     "metadata": {
      "needs_background": "light"
     },
     "output_type": "display_data"
    }
   ],
   "source": [
    "fig = plt.figure(figsize = (10,6))\n",
    "x = 'quality'\n",
    "y = 'density'\n",
    "sns.barplot(x = x, y = y, data = redwine)"
   ]
  },
  {
   "cell_type": "code",
   "execution_count": 105,
   "id": "720fa818",
   "metadata": {
    "slideshow": {
     "slide_type": "skip"
    }
   },
   "outputs": [
    {
     "data": {
      "text/plain": [
       "<AxesSubplot:xlabel='quality', ylabel='total sulfur dioxide'>"
      ]
     },
     "execution_count": 105,
     "metadata": {},
     "output_type": "execute_result"
    },
    {
     "data": {
      "image/png": "[encoded data removed]",
      "text/plain": [
       "<Figure size 720x432 with 1 Axes>"
      ]
     },
     "metadata": {
      "needs_background": "light"
     },
     "output_type": "display_data"
    }
   ],
   "source": [
    "fig = plt.figure(figsize = (10,6))\n",
    "x = 'quality'\n",
    "y = 'total sulfur dioxide'\n",
    "sns.barplot(x = x, y = y, data = redwine)"
   ]
  },
  {
   "cell_type": "code",
   "execution_count": 106,
   "id": "25b16d9a",
   "metadata": {
    "slideshow": {
     "slide_type": "subslide"
    }
   },
   "outputs": [
    {
     "data": {
      "text/plain": [
       "<AxesSubplot:xlabel='quality', ylabel='pH'>"
      ]
     },
     "execution_count": 106,
     "metadata": {},
     "output_type": "execute_result"
    },
    {
     "data": {
      "image/png": "[encoded data removed]",
      "text/plain": [
       "<Figure size 720x432 with 1 Axes>"
      ]
     },
     "metadata": {
      "needs_background": "light"
     },
     "output_type": "display_data"
    }
   ],
   "source": [
    "fig = plt.figure(figsize = (10,6))\n",
    "x = 'quality'\n",
    "y = 'pH'\n",
    "sns.barplot(x = x, y = y, data = redwine)"
   ]
  },
  {
   "cell_type": "markdown",
   "id": "a3115f83",
   "metadata": {
    "slideshow": {
     "slide_type": "slide"
    }
   },
   "source": [
    "# Correlation"
   ]
  },
  {
   "cell_type": "code",
   "execution_count": 107,
   "id": "f1dde7d3",
   "metadata": {
    "scrolled": false,
    "slideshow": {
     "slide_type": "subslide"
    }
   },
   "outputs": [
    {
     "data": {
      "image/png": "[encoded data removed]",
      "text/plain": [
       "<Figure size 720x720 with 2 Axes>"
      ]
     },
     "metadata": {
      "needs_background": "light"
     },
     "output_type": "display_data"
    }
   ],
   "source": [
    "# For Redwine\n",
    "plt.figure(figsize=(10, 10))\n",
    "sns.heatmap(redwine.corr(), annot=True, cmap='coolwarm')\n",
    "plt.show()"
   ]
  },
  {
   "cell_type": "code",
   "execution_count": 108,
   "id": "30ad3504",
   "metadata": {
    "slideshow": {
     "slide_type": "subslide"
    }
   },
   "outputs": [
    {
     "data": {
      "image/png": "[encoded data removed]",
      "text/plain": [
       "<Figure size 720x720 with 2 Axes>"
      ]
     },
     "metadata": {
      "needs_background": "light"
     },
     "output_type": "display_data"
    }
   ],
   "source": [
    "#For Whitewine\n",
    "plt.figure(figsize=(10, 10))\n",
    "sns.heatmap(whitewine.corr(), annot=True, cmap='coolwarm')\n",
    "plt.show()"
   ]
  },
  {
   "cell_type": "markdown",
   "id": "93edac70",
   "metadata": {
    "slideshow": {
     "slide_type": "slide"
    }
   },
   "source": [
    "# Model Prediction with all classes"
   ]
  },
  {
   "cell_type": "markdown",
   "id": "ff60eeca",
   "metadata": {},
   "source": [
    "## Random Forest "
   ]
  },
  {
   "cell_type": "code",
   "execution_count": 109,
   "id": "40adc651",
   "metadata": {
    "slideshow": {
     "slide_type": "subslide"
    }
   },
   "outputs": [
    {
     "name": "stdout",
     "output_type": "stream",
     "text": [
      "65.5\n"
     ]
    }
   ],
   "source": [
    "# define Attributes x and target attribute y\n",
    "x = redwine[['fixed acidity', 'volatile acidity', 'citric acid', 'residual sugar', 'chlorides', 'total sulfur dioxide', 'sulphates', 'alcohol']]\n",
    "y = redwine['quality']\n",
    "\n",
    "# Split Data into Training and Test Data\n",
    "x_train, x_test, y_train, y_test = train_test_split(x, y, test_size = 0.25)\n",
    "\n",
    "# ML-Algorithm Random Forest (rf) and print out accuracy\n",
    "rf = RandomForestClassifier()\n",
    "rf.fit(x_train, y_train)\n",
    "rf_predict=rf.predict(x_test)\n",
    "rf_conf_matrix = confusion_matrix(y_test, rf_predict)\n",
    "rf_acc_score = accuracy_score(y_test, rf_predict)\n",
    "print(rf_acc_score*100)"
   ]
  },
  {
   "cell_type": "markdown",
   "id": "166dbc9a",
   "metadata": {
    "slideshow": {
     "slide_type": "slide"
    }
   },
   "source": [
    "# Model Prediction with 3 classes"
   ]
  },
  {
   "cell_type": "code",
   "execution_count": 110,
   "id": "3a0f33bc",
   "metadata": {
    "scrolled": false,
    "slideshow": {
     "slide_type": "subslide"
    }
   },
   "outputs": [
    {
     "data": {
      "text/plain": [
       "<AxesSubplot:xlabel='quality', ylabel='count'>"
      ]
     },
     "execution_count": 110,
     "metadata": {},
     "output_type": "execute_result"
    },
    {
     "data": {
      "image/png": "[encoded data removed]",
      "text/plain": [
       "<Figure size 432x288 with 1 Axes>"
      ]
     },
     "metadata": {
      "needs_background": "light"
     },
     "output_type": "display_data"
    }
   ],
   "source": [
    "# Reduce the number of classes into three: Class 0: bad Quality; Class 1: Medium Quality; Class 2: Good Quality\n",
    "redwine_3 = redwine.copy()\n",
    "redwine_3['quality'] = redwine_3['quality'].apply(lambda x: 0 if x <= 4 else 1 if x <= 6 else 2)\n",
    "sns.countplot(x='quality', data=redwine_3)"
   ]
  },
  {
   "cell_type": "code",
   "execution_count": 111,
   "id": "02759218",
   "metadata": {
    "slideshow": {
     "slide_type": "subslide"
    }
   },
   "outputs": [
    {
     "data": {
      "text/plain": [
       "<AxesSubplot:xlabel='quality', ylabel='count'>"
      ]
     },
     "execution_count": 111,
     "metadata": {},
     "output_type": "execute_result"
    },
    {
     "data": {
      "image/png": "[encoded data removed]",
      "text/plain": [
       "<Figure size 432x288 with 1 Axes>"
      ]
     },
     "metadata": {
      "needs_background": "light"
     },
     "output_type": "display_data"
    }
   ],
   "source": [
    "# same with whitewine\n",
    "whitewine_3 = whitewine.copy()\n",
    "whitewine_3['quality'] = whitewine_3['quality'].apply(lambda x: 0 if x <= 4 else 1 if x <= 6 else 2)\n",
    "sns.countplot(x='quality', data=whitewine_3)"
   ]
  },
  {
   "cell_type": "code",
   "execution_count": 112,
   "id": "dbd68b69",
   "metadata": {
    "slideshow": {
     "slide_type": "subslide"
    }
   },
   "outputs": [
    {
     "name": "stdout",
     "output_type": "stream",
     "text": [
      "Redwine: Counter({1: 1319, 2: 217, 0: 63})\n",
      "Whitewine: Counter({1: 3655, 2: 1060, 0: 183})\n"
     ]
    }
   ],
   "source": [
    "# Count the exact numbers of each class for further use of class weights\n",
    "print(\"Redwine: \" + str(Counter(redwine_3['quality'])))\n",
    "print(\"Whitewine: \" + str(Counter(whitewine_3['quality'])))"
   ]
  },
  {
   "cell_type": "markdown",
   "id": "38c09f61",
   "metadata": {
    "slideshow": {
     "slide_type": "subslide"
    }
   },
   "source": [
    "# Train and Test Data"
   ]
  },
  {
   "cell_type": "code",
   "execution_count": 171,
   "id": "b431f8f1",
   "metadata": {
    "slideshow": {
     "slide_type": "-"
    }
   },
   "outputs": [],
   "source": [
    "# Split Data into Train and Test Data for all the following ML-Models (with Reduced Attributes)\n",
    "x = redwine_3[['fixed acidity', 'volatile acidity', 'citric acid', 'residual sugar', 'chlorides', 'total sulfur dioxide', 'sulphates', 'alcohol']]\n",
    "y = redwine_3['quality']\n",
    "x_train, x_test, y_train, y_test = train_test_split(x, y, test_size = 0.25)"
   ]
  },
  {
   "cell_type": "code",
   "execution_count": 114,
   "id": "1e34a355",
   "metadata": {
    "slideshow": {
     "slide_type": "-"
    }
   },
   "outputs": [
    {
     "data": {
      "text/plain": [
       "\"y = redwine_3['quality']\""
      ]
     },
     "execution_count": 114,
     "metadata": {},
     "output_type": "execute_result"
    }
   ],
   "source": [
    "# for comparison, the split, only with all attributes\n",
    "\"x = redwine_3[['fixed acidity', 'volatile acidity', 'citric acid', 'residual sugar', 'chlorides', 'free sulfur dioxide', 'total sulfur dioxide', 'density', 'pH', 'sulphates', 'alcohol']]\"\n",
    "\"y = redwine_3['quality']\""
   ]
  },
  {
   "cell_type": "markdown",
   "id": "1f8f2666",
   "metadata": {
    "slideshow": {
     "slide_type": "slide"
    }
   },
   "source": [
    "# Random Forest"
   ]
  },
  {
   "cell_type": "code",
   "execution_count": 181,
   "id": "f090b60c",
   "metadata": {
    "scrolled": true,
    "slideshow": {
     "slide_type": "-"
    }
   },
   "outputs": [
    {
     "name": "stdout",
     "output_type": "stream",
     "text": [
      "86.0\n"
     ]
    }
   ],
   "source": [
    "class_weights = {\n",
    "    0: 1 / 63,\n",
    "    1: 1 / 1319,\n",
    "    2: 1 / 217 \n",
    "}\n",
    "\n",
    "rf = RandomForestClassifier(class_weight=class_weights)\n",
    "rf.fit(x_train, y_train)\n",
    "rf_predict = rf.predict(x_test)\n",
    "rf_conf_matrix = confusion_matrix(y_test, rf_predict)\n",
    "rf_acc_score = accuracy_score(y_test, rf_predict)\n",
    "print(rf_acc_score * 100)"
   ]
  },
  {
   "cell_type": "markdown",
   "id": "90895d23",
   "metadata": {
    "slideshow": {
     "slide_type": "subslide"
    }
   },
   "source": [
    "## Logistic Regression"
   ]
  },
  {
   "cell_type": "code",
   "execution_count": 182,
   "id": "5c7bb92a",
   "metadata": {
    "slideshow": {
     "slide_type": "-"
    }
   },
   "outputs": [
    {
     "name": "stdout",
     "output_type": "stream",
     "text": [
      "82.0\n"
     ]
    }
   ],
   "source": [
    "lr = LogisticRegression()\n",
    "lr.fit(x_train, y_train)\n",
    "lr_predict = lr.predict(x_test)\n",
    "\n",
    "lr_conf_matrix = confusion_matrix(y_test, lr_predict)\n",
    "lr_acc_score = accuracy_score(y_test, lr_predict)\n",
    "print(lr_acc_score * 100)"
   ]
  },
  {
   "cell_type": "markdown",
   "id": "fbbad44a",
   "metadata": {
    "slideshow": {
     "slide_type": "subslide"
    }
   },
   "source": [
    "## Support Vector Classifier"
   ]
  },
  {
   "cell_type": "code",
   "execution_count": 183,
   "id": "d307ac54",
   "metadata": {
    "slideshow": {
     "slide_type": "-"
    }
   },
   "outputs": [
    {
     "name": "stdout",
     "output_type": "stream",
     "text": [
      "82.5\n"
     ]
    }
   ],
   "source": [
    "svm_model = SVC()\n",
    "\n",
    "svm_model.fit(x_train, y_train)\n",
    "svm_predict = svm_model.predict(x_test)\n",
    "svm_conf_matrix = confusion_matrix(y_test, svm_predict)\n",
    "svm_acc_score = accuracy_score(y_test, svm_predict)\n",
    "print(svm_acc_score*100)\n"
   ]
  },
  {
   "cell_type": "markdown",
   "id": "c1666ce9",
   "metadata": {
    "slideshow": {
     "slide_type": "subslide"
    }
   },
   "source": [
    "## KNeighborsClassifier"
   ]
  },
  {
   "cell_type": "code",
   "execution_count": 184,
   "id": "9e7fcbcd",
   "metadata": {
    "slideshow": {
     "slide_type": "-"
    }
   },
   "outputs": [
    {
     "name": "stdout",
     "output_type": "stream",
     "text": [
      "82.0\n"
     ]
    }
   ],
   "source": [
    "x_train, x_test, y_train, y_test = train_test_split(x, y, test_size=0.25)\n",
    "\n",
    "knn_model = KNeighborsClassifier()\n",
    "\n",
    "knn_model.fit(x_train, y_train)\n",
    "knn_predict = knn_model.predict(x_test)\n",
    "knn_conf_matrix = confusion_matrix(y_test, knn_predict)\n",
    "knn_acc_score = accuracy_score(y_test, knn_predict)\n",
    "print(knn_acc_score*100)"
   ]
  },
  {
   "cell_type": "markdown",
   "id": "6346c35f",
   "metadata": {
    "slideshow": {
     "slide_type": "subslide"
    }
   },
   "source": [
    " ## xgboost \n"
   ]
  },
  {
   "cell_type": "code",
   "execution_count": 194,
   "id": "95aed0fe",
   "metadata": {
    "slideshow": {
     "slide_type": "-"
    }
   },
   "outputs": [
    {
     "name": "stdout",
     "output_type": "stream",
     "text": [
      "[12:40:46] WARNING: C:\\buildkite-agent\\builds\\buildkite-windows-cpu-autoscaling-group-i-07593ffd91cd9da33-1\\xgboost\\xgboost-ci-windows\\src\\learner.cc:767: \n",
      "Parameters: { \"class_weights\" } are not used.\n",
      "\n",
      "84.75\n"
     ]
    }
   ],
   "source": [
    "class_weights = {\n",
    "    0: 1 / 63,\n",
    "    1: 1 / 1319,\n",
    "    2: 1 / 217 \n",
    "}\n",
    "\n",
    "xgb_model = xgb.XGBClassifier(class_weights=class_weights)\n",
    "\n",
    "xgb_model.fit(x_train, y_train)\n",
    "xgb_predict = xgb_model.predict(x_test)\n",
    "xgb_conf_matrix = confusion_matrix(y_test, xgb_predict)\n",
    "xgb_acc_score = accuracy_score(y_test, xgb_predict)\n",
    "print(xgb_acc_score*100)"
   ]
  },
  {
   "cell_type": "markdown",
   "id": "4a93b8cb",
   "metadata": {
    "slideshow": {
     "slide_type": "subslide"
    }
   },
   "source": [
    "## Naive Bayes"
   ]
  },
  {
   "cell_type": "code",
   "execution_count": 187,
   "id": "a87278ca",
   "metadata": {
    "slideshow": {
     "slide_type": "-"
    }
   },
   "outputs": [
    {
     "name": "stdout",
     "output_type": "stream",
     "text": [
      "79.5\n"
     ]
    }
   ],
   "source": [
    "naive_bayes = GaussianNB()\n",
    "\n",
    "naive_bayes.fit(x_train,y_train)\n",
    "naive_bayes_predict = naive_bayes.predict(x_test)\n",
    "naive_bayes_conf_matrix = confusion_matrix(y_test, naive_bayes_predict)\n",
    "naive_bayes_acc_score = accuracy_score(y_test, naive_bayes_predict)\n",
    "print(naive_bayes_acc_score*100)\n"
   ]
  },
  {
   "cell_type": "markdown",
   "id": "e16f48aa",
   "metadata": {
    "slideshow": {
     "slide_type": "subslide"
    }
   },
   "source": [
    "## Stochastic Gradient Descent\n"
   ]
  },
  {
   "cell_type": "code",
   "execution_count": 189,
   "id": "f2469123",
   "metadata": {
    "slideshow": {
     "slide_type": "-"
    }
   },
   "outputs": [
    {
     "name": "stdout",
     "output_type": "stream",
     "text": [
      "76.0\n"
     ]
    }
   ],
   "source": [
    "sgd = SGDClassifier(penalty=None)\n",
    "sgd.fit(x_train, y_train)\n",
    "\n",
    "sgd_predict = sgd.predict(x_test)\n",
    "sgd_conf_matrix = confusion_matrix(y_test, sgd_predict)\n",
    "sgd_acc_score = accuracy_score(y_test, sgd_predict)\n",
    "print(sgd_acc_score*100)\n"
   ]
  },
  {
   "cell_type": "markdown",
   "id": "80c5edbb",
   "metadata": {
    "slideshow": {
     "slide_type": "slide"
    }
   },
   "source": [
    "# Results (Model Prediction 3 Classes)"
   ]
  },
  {
   "cell_type": "markdown",
   "id": "e5a23071",
   "metadata": {
    "slideshow": {
     "slide_type": "subslide"
    }
   },
   "source": [
    "## Redwine"
   ]
  },
  {
   "cell_type": "code",
   "execution_count": 190,
   "id": "dd0113dd",
   "metadata": {
    "slideshow": {
     "slide_type": "-"
    }
   },
   "outputs": [
    {
     "data": {
      "text/html": [
       "<div>\n",
       "<style scoped>\n",
       "    .dataframe tbody tr th:only-of-type {\n",
       "        vertical-align: middle;\n",
       "    }\n",
       "\n",
       "    .dataframe tbody tr th {\n",
       "        vertical-align: top;\n",
       "    }\n",
       "\n",
       "    .dataframe thead th {\n",
       "        text-align: right;\n",
       "    }\n",
       "</style>\n",
       "<table border=\"1\" class=\"dataframe\">\n",
       "  <thead>\n",
       "    <tr style=\"text-align: right;\">\n",
       "      <th></th>\n",
       "      <th>Redwine-Model</th>\n",
       "    </tr>\n",
       "    <tr>\n",
       "      <th>Score</th>\n",
       "      <th></th>\n",
       "    </tr>\n",
       "  </thead>\n",
       "  <tbody>\n",
       "    <tr>\n",
       "      <th>86.0</th>\n",
       "      <td>Random Forest</td>\n",
       "    </tr>\n",
       "    <tr>\n",
       "      <th>84.5</th>\n",
       "      <td>XGBoost</td>\n",
       "    </tr>\n",
       "    <tr>\n",
       "      <th>82.5</th>\n",
       "      <td>SVM</td>\n",
       "    </tr>\n",
       "    <tr>\n",
       "      <th>82.0</th>\n",
       "      <td>Logistic Regression</td>\n",
       "    </tr>\n",
       "    <tr>\n",
       "      <th>82.0</th>\n",
       "      <td>KNN</td>\n",
       "    </tr>\n",
       "    <tr>\n",
       "      <th>79.5</th>\n",
       "      <td>Naive Bayes</td>\n",
       "    </tr>\n",
       "    <tr>\n",
       "      <th>76.0</th>\n",
       "      <td>Gradient Descent</td>\n",
       "    </tr>\n",
       "  </tbody>\n",
       "</table>\n",
       "</div>"
      ],
      "text/plain": [
       "             Redwine-Model\n",
       "Score                     \n",
       "86.0         Random Forest\n",
       "84.5               XGBoost\n",
       "82.5                   SVM\n",
       "82.0   Logistic Regression\n",
       "82.0                   KNN\n",
       "79.5           Naive Bayes\n",
       "76.0      Gradient Descent"
      ]
     },
     "execution_count": 190,
     "metadata": {},
     "output_type": "execute_result"
    }
   ],
   "source": [
    "# Print Results of Accuracy of all Models into a table -> Random Forest is the best\n",
    "results = pd.DataFrame({\n",
    "    'Redwine-Model': ['Random Forest', 'Logistic Regression', 'SVM', 'KNN', 'Naive Bayes', 'Gradient Descent', \"XGBoost\"],\n",
    "    'Score': [rf_acc_score * 100, lr_acc_score * 100, svm_acc_score * 100, knn_acc_score * 100, naive_bayes_acc_score * 100, sgd_acc_score * 100, xgb_acc_score*100]\n",
    "})\n",
    "\n",
    "result_df = results.sort_values(by='Score', ascending=False)\n",
    "result_df = result_df.set_index('Score')\n",
    "\n",
    "result_df"
   ]
  },
  {
   "cell_type": "markdown",
   "id": "b91fa3a5",
   "metadata": {
    "slideshow": {
     "slide_type": "subslide"
    }
   },
   "source": [
    "## Whitewine"
   ]
  },
  {
   "cell_type": "code",
   "execution_count": 191,
   "id": "5fdf4c37",
   "metadata": {
    "slideshow": {
     "slide_type": "-"
    }
   },
   "outputs": [
    {
     "data": {
      "text/html": [
       "<div>\n",
       "<style scoped>\n",
       "    .dataframe tbody tr th:only-of-type {\n",
       "        vertical-align: middle;\n",
       "    }\n",
       "\n",
       "    .dataframe tbody tr th {\n",
       "        vertical-align: top;\n",
       "    }\n",
       "\n",
       "    .dataframe thead th {\n",
       "        text-align: right;\n",
       "    }\n",
       "</style>\n",
       "<table border=\"1\" class=\"dataframe\">\n",
       "  <thead>\n",
       "    <tr style=\"text-align: right;\">\n",
       "      <th></th>\n",
       "      <th>Whitewine-Model</th>\n",
       "    </tr>\n",
       "    <tr>\n",
       "      <th>Score</th>\n",
       "      <th></th>\n",
       "    </tr>\n",
       "  </thead>\n",
       "  <tbody>\n",
       "    <tr>\n",
       "      <th>84.326531</th>\n",
       "      <td>Random Forest</td>\n",
       "    </tr>\n",
       "    <tr>\n",
       "      <th>84.000000</th>\n",
       "      <td>XGBoost</td>\n",
       "    </tr>\n",
       "    <tr>\n",
       "      <th>76.244898</th>\n",
       "      <td>SVM</td>\n",
       "    </tr>\n",
       "    <tr>\n",
       "      <th>76.081633</th>\n",
       "      <td>Logistic Regression</td>\n",
       "    </tr>\n",
       "    <tr>\n",
       "      <th>75.428571</th>\n",
       "      <td>KNN</td>\n",
       "    </tr>\n",
       "    <tr>\n",
       "      <th>73.877551</th>\n",
       "      <td>Gradient Descent</td>\n",
       "    </tr>\n",
       "    <tr>\n",
       "      <th>67.020408</th>\n",
       "      <td>Naive Bayes</td>\n",
       "    </tr>\n",
       "  </tbody>\n",
       "</table>\n",
       "</div>"
      ],
      "text/plain": [
       "               Whitewine-Model\n",
       "Score                         \n",
       "84.326531        Random Forest\n",
       "84.000000              XGBoost\n",
       "76.244898                  SVM\n",
       "76.081633  Logistic Regression\n",
       "75.428571                  KNN\n",
       "73.877551     Gradient Descent\n",
       "67.020408          Naive Bayes"
      ]
     },
     "execution_count": 191,
     "metadata": {},
     "output_type": "execute_result"
    }
   ],
   "source": [
    "#Same For Whitewine [Models for Whitewine are in another file]\n",
    "results = pd.DataFrame({\n",
    "    'Whitewine-Model': ['Random Forest', 'Logistic Regression', 'SVM', 'KNN', 'Naive Bayes', 'Gradient Descent', 'XGBoost'],\n",
    "    'Score': [84.326531, 76.081633, 76.244898,75.428571, 67.020408, 73.877551,84]\n",
    "})\n",
    "\n",
    "result_df = results.sort_values(by='Score', ascending=False)\n",
    "result_df = result_df.set_index('Score')\n",
    "\n",
    "result_df"
   ]
  },
  {
   "cell_type": "markdown",
   "id": "3d7920ad",
   "metadata": {
    "slideshow": {
     "slide_type": "slide"
    }
   },
   "source": [
    "# Final Model: Random Forest"
   ]
  },
  {
   "cell_type": "code",
   "execution_count": 156,
   "id": "5d27a5d2",
   "metadata": {},
   "outputs": [
    {
     "name": "stdout",
     "output_type": "stream",
     "text": [
      "86.32282913165267\n",
      "88.75\n"
     ]
    }
   ],
   "source": [
    "# Redwine - Final Model\n",
    "from sklearn.metrics import f1_score\n",
    "\n",
    "x = redwine_3[['fixed acidity', 'volatile acidity', 'citric acid', 'residual sugar', 'chlorides', 'total sulfur dioxide', 'sulphates', 'alcohol']]\n",
    "y = redwine_3['quality']\n",
    "x_train, x_test, y_train, y_test = train_test_split(x, y, test_size=0.25,random_state=299)\n",
    "\n",
    "class_weights = {\n",
    "    0: 1 / 63,\n",
    "    1: 1 / 1319,\n",
    "    2: 1 / 217\n",
    "}\n",
    "\n",
    "red = RandomForestClassifier(class_weight=class_weights)\n",
    "red.fit(x_train, y_train)\n",
    "rf_predict = red.predict(x_test)\n",
    "rf_conf_matrix = confusion_matrix(y_test, rf_predict)\n",
    "rf_f1_score = f1_score(y_test, rf_predict, average='weighted')\n",
    "print(rf_f1_score * 100)\n",
    "rf_acc_score = accuracy_score(y_test, rf_predict)\n",
    "print(rf_acc_score*100)\n"
   ]
  },
  {
   "cell_type": "code",
   "execution_count": 163,
   "id": "68ee19f9",
   "metadata": {
    "slideshow": {
     "slide_type": "subslide"
    }
   },
   "outputs": [
    {
     "name": "stdout",
     "output_type": "stream",
     "text": [
      "81.654719511375\n"
     ]
    }
   ],
   "source": [
    "# Whitewine Final Model\n",
    "x = whitewine_3[['fixed acidity', 'volatile acidity', 'citric acid', 'residual sugar', 'chlorides', 'total sulfur dioxide', 'sulphates', 'alcohol']]\n",
    "y = whitewine_3['quality']\n",
    "x_train, x_test, y_train, y_test = train_test_split(x, y, test_size = 0.25,random_state=242)\n",
    "\n",
    "class_weights = {\n",
    "    0: 1 / 183,\n",
    "    1: 1 / 3655,\n",
    "    2: 1 / 1060    \n",
    "}\n",
    "\n",
    "white = RandomForestClassifier()\n",
    "white.fit(x_train, y_train)\n",
    "rf_predict=white.predict(x_test)\n",
    "rf_conf_matrix = confusion_matrix(y_test, rf_predict)\n",
    "rf_f1_score = f1_score(y_test, rf_predict, average='weighted')\n",
    "print(rf_f1_score * 100)"
   ]
  },
  {
   "cell_type": "markdown",
   "id": "0f3dd271",
   "metadata": {
    "slideshow": {
     "slide_type": "slide"
    }
   },
   "source": [
    "## Random Forest - prediction"
   ]
  },
  {
   "cell_type": "code",
   "execution_count": 193,
   "id": "6879bf62",
   "metadata": {
    "slideshow": {
     "slide_type": "subslide"
    }
   },
   "outputs": [
    {
     "name": "stdout",
     "output_type": "stream",
     "text": [
      "Geben Sie weiß für Weißwein und rot für Rotwein ein: rot\n",
      "Qualitätsanalyse für Rotwein\n",
      "Bitte geben Sie die Werte für den Array ein, getrennt durch Kommas: 8.847005,0.405530,0.376498,2.708756,0.075912,34.889401,0.743456,11.518049 \n",
      "Folgende Eingabe erfolgreich:\n",
      "[[8.847005, 0.40553, 0.376498, 2.708756, 0.075912, 34.889401, 0.743456, 11.518049]]\n",
      "[2]\n"
     ]
    }
   ],
   "source": [
    "redWhite = input(\"Geben Sie weiß für Weißwein und rot für Rotwein ein: \")\n",
    "\n",
    "if redWhite == \"weiß\" or redWhite == \"white\": # User wants to predict Whitewine\n",
    "    print(\"Qualitätsanalyse für Weißwein\")\n",
    "    example_data = []\n",
    "    values = input(\"Bitte geben Sie die Werte für den Array ein, getrennt durch Kommas: \")\n",
    "    values_list = values.split(',')\n",
    "    if len(values_list) != 8:\n",
    "        print(\"Fehler: Es müssen genau 8 Werte eingegeben werden!\")\n",
    "    else:\n",
    "        try:\n",
    "            example_data.append([float(value) for value in values_list])\n",
    "            print(\"Folgende Eingabe erfolgreich:\")\n",
    "            print(example_data)\n",
    "        except ValueError:\n",
    "            print(\"Fehler: Ungültige Eingabe! Es dürfen nur Zahlen eingegeben werden.\")\n",
    "    predicted_class = white.predict(example_data)\n",
    "    print(predicted_class)\n",
    "elif redWhite == \"rot\" or redWhite == \"red\": # User wants to predict Redwine\n",
    "    print(\"Qualitätsanalyse für Rotwein\")\n",
    "    example_data = []\n",
    "    values = input(\"Bitte geben Sie die Werte für den Array ein, getrennt durch Kommas: \")\n",
    "    values_list = values.split(',')\n",
    "    if len(values_list) != 8:\n",
    "        print(\"Fehler: Es müssen genau 8 Werte eingegeben werden!\")\n",
    "    else:\n",
    "        try:\n",
    "            example_data.append([float(value) for value in values_list])\n",
    "            print(\"Folgende Eingabe erfolgreich:\")\n",
    "            print(example_data)\n",
    "        except ValueError:\n",
    "            print(\"Fehler: Ungültige Eingabe! Es dürfen nur Zahlen eingegeben werden.\")\n",
    "    predicted_class = red.predict(example_data)\n",
    "    print(predicted_class)"
   ]
  },
  {
   "cell_type": "code",
   "execution_count": 167,
   "id": "ce57a856",
   "metadata": {
    "scrolled": false,
    "slideshow": {
     "slide_type": "skip"
    }
   },
   "outputs": [
    {
     "data": {
      "text/plain": [
       "'\"\"\\n7.871429,0.724206,0.173651,2.684921,0.09573,34.444444,0.592222,10.215873    # Rot 0\\n8.254284,0.538560,0.258264,2.503867,0.088973,48.946929,0.647263,10.252717   # Rot 1\\n8.847005,0.405530,0.376498,2.708756,0.075912,34.889401,0.743456,11.518049   # Rot 2\\n\\n7.180874,0.375984,0.307705,4.821038,0.050557,130.232240,0.475956,10.173497  # Weiß 0\\n6.876060,0.277086,0.337877,6.797729,0.047740,142.571272,0.487557,10.269808  # Weiß 1\\n6.725142,0.265349,0.326057,5.261509,0.038160,125.245283,0.992412,11.416022  # Weiß 2\\n'"
      ]
     },
     "execution_count": 167,
     "metadata": {},
     "output_type": "execute_result"
    }
   ],
   "source": [
    "\"\"\"\"\"\n",
    "7.871429,0.724206,0.173651,2.684921,0.09573,34.444444,0.592222,10.215873    # Rot 0\n",
    "8.254284,0.538560,0.258264,2.503867,0.088973,48.946929,0.647263,10.252717   # Rot 1\n",
    "8.847005,0.405530,0.376498,2.708756,0.075912,34.889401,0.743456,11.518049   # Rot 2\n",
    "\n",
    "7.180874,0.375984,0.307705,4.821038,0.050557,130.232240,0.475956,10.173497  # Weiß 0\n",
    "6.876060,0.277086,0.337877,6.797729,0.047740,142.571272,0.487557,10.269808  # Weiß 1\n",
    "6.725142,0.265349,0.326057,5.261509,0.038160,125.245283,0.500142,11.416022  # Weiß 2\n",
    "\"\"\"\"\""
   ]
  },
  {
   "cell_type": "markdown",
   "id": "6774df5b",
   "metadata": {
    "slideshow": {
     "slide_type": "skip"
    }
   },
   "source": [
    "# Best Random State"
   ]
  },
  {
   "cell_type": "code",
   "execution_count": null,
   "id": "54415797",
   "metadata": {
    "slideshow": {
     "slide_type": "skip"
    }
   },
   "outputs": [],
   "source": [
    "\"\"\"\"\n",
    "from sklearn.model_selection import train_test_split\n",
    "from sklearn.ensemble import RandomForestClassifier\n",
    "from sklearn.metrics import confusion_matrix, accuracy_score\n",
    "\n",
    "x = redwine_3[['fixed acidity', 'volatile acidity', 'citric acid', 'residual sugar', 'chlorides', 'total sulfur dioxide', 'sulphates', 'alcohol']]\n",
    "y = redwine_3['quality']\n",
    "\n",
    "best_random_state = None\n",
    "best_accuracy = 0.0\n",
    "\n",
    "for random_state in range(301):\n",
    "    print(random_state)\n",
    "    x_train, x_test, y_train, y_test = train_test_split(x, y, test_size=0.25, random_state=random_state)\n",
    "\n",
    "    class_weights = {\n",
    "        0: 1 / 63,\n",
    "        1: 1 / 1319,\n",
    "        2: 1 / 217 \n",
    "    }\n",
    "\n",
    "    red = RandomForestClassifier(class_weight=class_weights)\n",
    "    red.fit(x_train, y_train)\n",
    "    rf_predict = red.predict(x_test)\n",
    "    rf_acc_score = accuracy_score(y_test, rf_predict)\n",
    "    \n",
    "    if rf_acc_score > best_accuracy:\n",
    "        best_accuracy = rf_acc_score\n",
    "        best_random_state = random_state\n",
    "\n",
    "print(\"Best RandomState:\", best_random_state)\n",
    "print(\"Best Accuracy:\", best_accuracy * 100)\n",
    "\"\"\"\""
   ]
  },
  {
   "cell_type": "markdown",
   "id": "7d7f7fb1",
   "metadata": {
    "slideshow": {
     "slide_type": "skip"
    }
   },
   "source": [
    "# Test with Hyperparameters, but worse results"
   ]
  },
  {
   "cell_type": "code",
   "execution_count": 154,
   "id": "c603bd9f",
   "metadata": {
    "slideshow": {
     "slide_type": "skip"
    }
   },
   "outputs": [
    {
     "name": "stdout",
     "output_type": "stream",
     "text": [
      "86.22004508409918\n"
     ]
    }
   ],
   "source": [
    "\"\"\"\"\"\n",
    "from \"sklearn.model_selection import GridSearchCV\n",
    "\n",
    "x = redwine_3[['fixed acidity', 'volatile acidity', 'citric acid', 'residual sugar', 'chlorides', 'total sulfur dioxide', 'sulphates', 'alcohol']]\n",
    "y = redwine_3['quality']\n",
    "x_train, x_test, y_train, y_test = train_test_split(x, y, test_size=0.25, random_state=299)\n",
    "\n",
    "class_weights = {\n",
    "    0: 1 / 63,\n",
    "    1: 1 / 1319,\n",
    "    2: 1 / 217 \n",
    "}\n",
    "\n",
    "param_grid = {\n",
    "    'n_estimators': [50, 100, 200, 300],\n",
    "    'max_depth': [None, 5, 10, 20],\n",
    "    'min_samples_split': [2, 5, 10, 15]\n",
    "}\n",
    "\n",
    "red = RandomForestClassifier(class_weight=class_weights)\n",
    "grid_search = GridSearchCV(estimator=red, param_grid=param_grid, cv=5)\n",
    "grid_search.fit(x_train, y_train)\n",
    "\n",
    "best_red = grid_search.best_estimator_\n",
    "rf_predict = best_red.predict(x_test)\n",
    "rf_conf_matrix = confusion_matrix(y_test, rf_predict)\n",
    "rf_f1_score = f1_score(y_test, rf_predict, average='weighted')\n",
    "print(rf_f1_score * 100)\"\"\"\""
   ]
  }
 ],
 "metadata": {
  "celltoolbar": "Slideshow",
  "kernelspec": {
   "display_name": "Python 3",
   "language": "python",
   "name": "python3"
  },
  "language_info": {
   "codemirror_mode": {
    "name": "ipython",
    "version": 3
   },
   "file_extension": ".py",
   "mimetype": "text/x-python",
   "name": "python",
   "nbconvert_exporter": "python",
   "pygments_lexer": "ipython3",
   "version": "3.8.8"
  }
 },
 "nbformat": 4,
 "nbformat_minor": 5
}
